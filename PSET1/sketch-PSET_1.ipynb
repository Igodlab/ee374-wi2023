{
 "cells": [
  {
   "cell_type": "markdown",
   "id": "0bd022a7-43df-44c7-b793-0a9f7eddad59",
   "metadata": {},
   "source": [
    "# Sketch PSET_1\n",
    "draft, not committed to GH"
   ]
  },
  {
   "cell_type": "code",
   "execution_count": 1,
   "id": "9dfb3da6-ffed-4879-be31-6720a6efca22",
   "metadata": {
    "tags": []
   },
   "outputs": [],
   "source": [
    "import numpy as np\n",
    "import matplotlib.pyplot as plt\n",
    "\n",
    "import hashlib"
   ]
  },
  {
   "cell_type": "code",
   "execution_count": 2,
   "id": "179755bd-713d-451f-8835-0403c0b89662",
   "metadata": {
    "tags": []
   },
   "outputs": [],
   "source": [
    "# helper functions\n",
    "\n",
    "# hex to binary\n",
    "def hex2bin(x):\n",
    "    if x[:2] == \"0x\":\n",
    "        x_hex = x\n",
    "    elif type(x) == str:\n",
    "        x_hex = \"0x\" + x\n",
    "    else:\n",
    "        x_hex = \"0x\" + str(x)\n",
    "    x_bin = int(x_hex, 2)\n",
    "    return hex(x)\n",
    "\n",
    "# binary to hex\n",
    "def bin2hex(x):\n",
    "    if x[:2] == \"0b\":\n",
    "        x_bin = x\n",
    "    elif type(x) == str:\n",
    "        x_bin = \"0b\" + x\n",
    "    else:\n",
    "        x_bin = \"0b\" + str(x)\n",
    "    x_int = int(x_bin, 2)\n",
    "    return int(x_int, 2)\n",
    "\n",
    "# hex to dec\n",
    "def hex2int(x):\n",
    "    if x[:2] == \"0x\":\n",
    "        x_hex = x\n",
    "    elif type(x) == str:\n",
    "        x_hex = \"0x\" + x\n",
    "    else:\n",
    "        x_hex = \"0x\" + str(x)\n",
    "    return int(x_hex, 16)\n",
    "\n",
    "# dec to hex\n",
    "def int2hex(x):\n",
    "    return hex(x)"
   ]
  },
  {
   "cell_type": "code",
   "execution_count": 19,
   "id": "1d58085c-3cc3-4e07-a898-38720ddc32cb",
   "metadata": {
    "tags": []
   },
   "outputs": [
    {
     "name": "stdout",
     "output_type": "stream",
     "text": [
      "Binary -> bits: 256, (low, upper)=\n",
      "(0000000000000000000000000000000000000000000000000000000000000000000000000000000000000000000000000000000000000000000000000000000000000000000000000000000000000000000000000000000000000000000000000000000000000000000000000000000000000000000000000000000000000000, 1111111111111111111111111111111111111111111111111111111111111111111111111111111111111111111111111111111111111111111111111111111111111111111111111111111111111111111111111111111111111111111111111111111111111111111111111111111111111111111111111111111111111111)\n",
      "\n",
      "\n",
      "Decimal -> bits: 115792089237316195423570985008687907853269984665640564039457584007913129639936, (low, upper)=\n",
      "(0, 115792089237316195423570985008687907853269984665640564039457584007913129639935)\n",
      "\n",
      "\n",
      "0 115792089237316195423570985008687907853269984665640564039457584007913129639935\n",
      "Hexadecimal -> bits: 66, (low, upper)=\n",
      "(0x0, 0xffffffffffffffffffffffffffffffffffffffffffffffffffffffffffffffff)\n"
     ]
    }
   ],
   "source": [
    "# note the ranges:\n",
    "\n",
    "(min_bin, max_bin) = (\"0\" * 8 * 32, \"1\" * 8 * 32)\n",
    "(min_int, max_int) = (int(min_bin, 2), int(max_bin, 2))\n",
    "(min_hex, max_hex) = (hex(min_int), hex(max_int))\n",
    "\n",
    "print(f\"Binary -> bits: {len(max_bin):.0f}, (low, upper)=\\n({min_bin}, {max_bin})\\n\\n\")\n",
    "print(f\"Decimal -> bits: {(max_int):.0f}, (low, upper)=\\n({min_int}, {max_int})\\n\\n\")\n",
    "print(2**0 - 1, 2**256 - 1)\n",
    "print(f\"Hexadecimal -> bits: {len(max_hex):.0f}, (low, upper)=\\n({min_hex}, {max_hex})\")"
   ]
  },
  {
   "cell_type": "code",
   "execution_count": 4,
   "id": "e1a875c9-4de2-42cf-8492-4a5d15b160d7",
   "metadata": {
    "tags": []
   },
   "outputs": [
    {
     "data": {
      "text/plain": [
       "(('0x8', '0x2'), 3.8320224660822814e-66, 54.0)"
      ]
     },
     "execution_count": 4,
     "metadata": {},
     "output_type": "execute_result"
    }
   ],
   "source": [
    "kappa_max = 2**256 - 1\n",
    "(hex(8), hex(2)), 0x0000000000000000000000674FA5A578 / kappa_max, hex2int(hex(108)) / hex2int(hex(2))"
   ]
  },
  {
   "cell_type": "code",
   "execution_count": 5,
   "id": "79dc8c15-e52c-40a8-a2c0-700183cae1a0",
   "metadata": {
    "tags": []
   },
   "outputs": [
    {
     "name": "stdout",
     "output_type": "stream",
     "text": [
      "0b11010101\n",
      "0xd5\n",
      "213\n",
      "213\n"
     ]
    }
   ],
   "source": [
    "# 1 byte examples\n",
    "binary = 0b11010101    # 213 in decimal\n",
    "hex_val = 0xD5         # 213 in decimal\n",
    "decimal = 213\n",
    "\n",
    "# Converting between them\n",
    "print(bin(decimal))    # '0b11010101'\n",
    "print(hex(decimal))    # '0xd5'\n",
    "print(int('11010101', 2))  # 213\n",
    "print(int('d5', 16))       # 213"
   ]
  },
  {
   "cell_type": "markdown",
   "id": "ac201851-44b1-468c-b8cb-072b21179e45",
   "metadata": {},
   "source": [
    "## Parameterizations for Block generation rate (# of convergence opportunities vs npq)\n",
    "want to reproduce Fig.6.4 pg. 82"
   ]
  },
  {
   "cell_type": "code",
   "execution_count": 18,
   "id": "2733e1a7-cd73-4cab-8972-721ff6af1ce7",
   "metadata": {
    "tags": []
   },
   "outputs": [
    {
     "data": {
      "text/plain": [
       "str"
      ]
     },
     "execution_count": 18,
     "metadata": {},
     "output_type": "execute_result"
    }
   ],
   "source": [
    "type(max_hex)"
   ]
  },
  {
   "cell_type": "code",
   "execution_count": 35,
   "id": "8273e6b4-174c-417f-9071-e7380c56cd0b",
   "metadata": {
    "tags": []
   },
   "outputs": [],
   "source": [
    "# 2^256\n",
    "kappa = 256\n",
    "two_kappa = 2**kappa - 1\n",
    "\n",
    "# prob of a successful PoW query\n",
    "T_range = np.asarray(list(map(lambda xi: two_kappa * xi, [1e-77, 1e-30, 1e-10, 1e-1, 1])))\n",
    "T = T_range\n",
    "p = T / two_kappa\n",
    "\n",
    "# other params\n",
    "n = 1e4 # num of nodes in the network\n",
    "q = 1 # [1/s]=[Hz] computations per unit time \n",
    "\n",
    "# expected"
   ]
  },
  {
   "cell_type": "code",
   "execution_count": null,
   "id": "50242c1d-5d09-4769-b729-e2e88dded651",
   "metadata": {},
   "outputs": [],
   "source": []
  },
  {
   "cell_type": "markdown",
   "id": "cfb31bf0-5b7c-4b54-898a-cd598c26b60d",
   "metadata": {},
   "source": [
    "## Asymptotic Complexity\n",
    "reference https://crypto.stanford.edu/pbc/notes/crypto/asymp.html"
   ]
  },
  {
   "cell_type": "code",
   "execution_count": 31,
   "id": "364b177c-4450-4312-83da-1e0bb418c3ca",
   "metadata": {
    "tags": []
   },
   "outputs": [],
   "source": [
    "# Cryptography Time Complexity\n",
    "\n",
    "# $A$ is a deterministic polynomial-time algorithm if there exists a polynomial $P_A(\\lambda)$ \n",
    "# such that for all inputs $X$ of length $\\lambda$: $TIME(X) >= P_A(\\lambda)$\n",
    "lmbda = np.arange(-100,100)\n",
    "X = len(lmbda)\n",
    "P = lambda xi: 3 * xi**3 - 5 * xi**2 + 2.5 * xi + 1\n",
    "PA = P(lmbda)"
   ]
  },
  {
   "cell_type": "code",
   "execution_count": 32,
   "id": "901e620f-2738-4db9-890d-54ce3d968273",
   "metadata": {},
   "outputs": [
    {
     "data": {
      "text/plain": [
       "<matplotlib.collections.PathCollection at 0x7f8cfce19f50>"
      ]
     },
     "execution_count": 32,
     "metadata": {},
     "output_type": "execute_result"
    },
    {
     "data": {
      "image/png": "[encoded data removed]",
      "text/plain": [
       "<Figure size 640x480 with 1 Axes>"
      ]
     },
     "metadata": {},
     "output_type": "display_data"
    }
   ],
   "source": [
    "plt.scatter(lmbda, PA)"
   ]
  },
  {
   "cell_type": "code",
   "execution_count": 33,
   "id": "8c322123-8e66-4a17-86d2-ba9727d7dce9",
   "metadata": {
    "tags": []
   },
   "outputs": [
    {
     "data": {
      "text/plain": [
       "200"
      ]
     },
     "execution_count": 33,
     "metadata": {},
     "output_type": "execute_result"
    }
   ],
   "source": [
    "X"
   ]
  }
 ],
 "metadata": {
  "kernelspec": {
   "display_name": "Python 3 (ipykernel)",
   "language": "python",
   "name": "python3"
  },
  "language_info": {
   "codemirror_mode": {
    "name": "ipython",
    "version": 3
   },
   "file_extension": ".py",
   "mimetype": "text/x-python",
   "name": "python",
   "nbconvert_exporter": "python",
   "pygments_lexer": "ipython3",
   "version": "3.11.4"
  }
 },
 "nbformat": 4,
 "nbformat_minor": 5
}
