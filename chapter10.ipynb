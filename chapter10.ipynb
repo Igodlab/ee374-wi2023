{
 "cells": [
  {
   "cell_type": "markdown",
   "id": "9d3e2d3a-c1c6-4640-93e9-f8cdd4ed1431",
   "metadata": {},
   "source": [
    "# E-374"
   ]
  },
  {
   "cell_type": "markdown",
   "id": "d67a0836-fe57-4828-a59d-f08dd93cb3d8",
   "metadata": {},
   "source": [
    "# Chapter 10\n",
    "\n",
    "# Light Clients\n",
    "\n",
    "### 10.1 Motivation\n",
    "- *Full nodes* operate w/ a huge wrokload, we face three main scalability issues: \n",
    "    - storage requirements - full nodes store the entire chain (~1TB in Bitcoin)\n",
    "    - communication requirements - full nodes boradcast, request & download every transaction & block submitted to the network\n",
    "    - computation requirements - full nodes validate all incoming transactions & blocks, then compute the UTXO set, etc...\n",
    "- We seek to design a *light client/node* such that it requres less load on each point above\n",
    "\n",
    "### 10.2 Definition\n",
    "- *Light clients/nodes* in the blockchain can verify payments and create transactions w/ much less worload:\n",
    "    - needs less storage (lets aim at ~100MB)\n",
    "    - communicates less w/ the network (only downloads $\\text{txs}$ pertinent to an address)\n",
    "    - requires less computation power (will not validate all $\\text{txs}$ in the DAG)\n",
    "- Furthermore they are connected ONLY w/ full node peers (rather than other light clients) to ensure availability of information\n",
    "\n",
    "### 10.3 Header Chains\n",
    "- Light clients store a chain of **block headers** (hash of a block w/ format $s\\| \\vec{x} \\| \\text{ctr}$) rather than the whole transaction vector\n",
    "\n",
    "#### 10.3.1 Blockc Validation\n",
    "- Block validation for chains of headers follow a slightly modified process:\n",
    "    - *(i)* download the new  block header *(ii)* validate the header PoW and ancestry *(iii)* download the block body *(iv)* check block validity (ie. transaction set & merkle tree)\n",
    "    \n",
    "#### 10.3.2 Benefits\n",
    "- Block headers solve all three of our problems:\n",
    "    - significantly reducing size by storing only $3 \\kappa$"
   ]
  }
 ],
 "metadata": {
  "kernelspec": {
   "display_name": "Python 3 (ipykernel)",
   "language": "python",
   "name": "python3"
  },
  "language_info": {
   "codemirror_mode": {
    "name": "ipython",
    "version": 3
   },
   "file_extension": ".py",
   "mimetype": "text/x-python",
   "name": "python",
   "nbconvert_exporter": "python",
   "pygments_lexer": "ipython3",
   "version": "3.12.7"
  }
 },
 "nbformat": 4,
 "nbformat_minor": 5
}
